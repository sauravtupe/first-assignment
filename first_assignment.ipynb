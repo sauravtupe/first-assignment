{
 "cells": [
  {
   "cell_type": "code",
   "execution_count": null,
   "metadata": {
    "colab": {
     "base_uri": "https://localhost:8080/",
     "height": 35
    },
    "id": "gBqT9DKlltVA",
    "outputId": "fa98656d-d43f-4c56-9ad2-05f1bd8c0602"
   },
   "outputs": [
    {
     "data": {
      "application/vnd.google.colaboratory.intrinsic+json": {
       "type": "string"
      },
      "text/plain": [
       "'dlrow olleH'"
      ]
     },
     "execution_count": 6,
     "metadata": {},
     "output_type": "execute_result"
    }
   ],
   "source": [
    "# 1. write a code to reverse a string.\n",
    "#code\n",
    "\n",
    "a = \"Hello world\"\n",
    "a[::-1]"
   ]
  },
  {
   "cell_type": "code",
   "execution_count": null,
   "metadata": {
    "colab": {
     "base_uri": "https://localhost:8080/"
    },
    "id": "ZoLnjFJBmdQA",
    "outputId": "22b54a96-066d-4572-b174-a7c86839dfc2"
   },
   "outputs": [
    {
     "name": "stdout",
     "output_type": "stream",
     "text": [
      "Number of vowels are:\n",
      "3\n"
     ]
    }
   ],
   "source": [
    "# 2.- Write a code to count the number of vowels in a string.\n",
    "# code :\n",
    "\n",
    "str1 = \"Hello world\"\n",
    "vowels = 0\n",
    "for i in str1:\n",
    "  if(i==\"a\" or i==\"e\" or i==\"i\" or i==\"o\" or i==\"u\" or i==\"A\" or i==\"E\" or i==\"I\" or i==\"O\" or i==\"U\"):\n",
    "    vowels = vowels+1\n",
    "print(\"Number of vowels are:\")\n",
    "print(vowels)\n"
   ]
  },
  {
   "cell_type": "code",
   "execution_count": null,
   "metadata": {
    "colab": {
     "base_uri": "https://localhost:8080/"
    },
    "id": "Mpt3NfYKqkEd",
    "outputId": "673564a5-b3ff-43ef-e6c2-89181223d3a1"
   },
   "outputs": [
    {
     "name": "stdout",
     "output_type": "stream",
     "text": [
      " Enter a string : naman\n",
      "naman is a palindrome\n"
     ]
    }
   ],
   "source": [
    "#.3 Write a code to check if a given string is a palindrome or not.\n",
    "# code:\n",
    "\n",
    "s = input(\" Enter a string : \")\n",
    "if s == s[::-1]:\n",
    "  print(s+ \" is a palindrome\")\n",
    "else:\n",
    "  print(s+ \" is not a palindrome\")"
   ]
  },
  {
   "cell_type": "code",
   "execution_count": null,
   "metadata": {
    "colab": {
     "base_uri": "https://localhost:8080/"
    },
    "id": "743fKpzWsc8R",
    "outputId": "93938e63-9b11-41e3-8b4c-e584300da8e5"
   },
   "outputs": [
    {
     "name": "stdout",
     "output_type": "stream",
     "text": [
      "The word are anagrams\n"
     ]
    }
   ],
   "source": [
    "# 4. Write a code to check if two given strings are anagrams of each other.\n",
    "#code\n",
    "\n",
    "word1 = \"listen\"\n",
    "word2 = \"silent\"\n",
    "sorted_word1 = sorted(word1)\n",
    "sorted_word2 = sorted(word2)\n",
    "\n",
    "is_anagrams = sorted_word1 == sorted_word2\n",
    "\n",
    "if is_anagrams:\n",
    "  print(\"The word are anagrams\")\n",
    "else:\n",
    "  print(\"The word is not anagrams\")"
   ]
  },
  {
   "cell_type": "code",
   "execution_count": null,
   "metadata": {
    "colab": {
     "base_uri": "https://localhost:8080/"
    },
    "id": "CFwECSGpyTXs",
    "outputId": "584920d2-a834-45bf-b0a2-b91ba3a558dd"
   },
   "outputs": [
    {
     "name": "stdout",
     "output_type": "stream",
     "text": [
      "Occurrences: [0, 2, 4, 6]\n"
     ]
    }
   ],
   "source": [
    "# 5. Write a code to find all occurrences of a given substring within another string.\n",
    "#code\n",
    "\n",
    "def find_all_occurrences(main_string, sub_string):\n",
    "    occurrences = [i for i in range(len(main_string)) if main_string.startswith(sub_string, i)]\n",
    "    return occurrences\n",
    "\n",
    "# Example usage:\n",
    "main_str = \"ababababab\"\n",
    "sub_str = \"aba\"\n",
    "\n",
    "print(\"Occurrences:\", find_all_occurrences(main_str, sub_str))\n"
   ]
  },
  {
   "cell_type": "code",
   "execution_count": null,
   "metadata": {
    "colab": {
     "base_uri": "https://localhost:8080/",
     "height": 35
    },
    "id": "gFdaO-cG2wTs",
    "outputId": "7e0c65ec-c295-46cc-9c06-d2fa757c32f2"
   },
   "outputs": [
    {
     "data": {
      "application/vnd.google.colaboratory.intrinsic+json": {
       "type": "string"
      },
      "text/plain": [
       "'a2b2c4a2'"
      ]
     },
     "execution_count": 33,
     "metadata": {},
     "output_type": "execute_result"
    }
   ],
   "source": [
    "# 6. Write a code to perform basic string compression using the counts of repeated characters.\n",
    "# code:\n",
    "from itertools import groupby\n",
    "s = 'aabbccccaa'\n",
    "''.join(k + str(sum(1 for x in g)) for k, g in groupby(s))\n",
    "\n"
   ]
  },
  {
   "cell_type": "code",
   "execution_count": null,
   "metadata": {
    "colab": {
     "base_uri": "https://localhost:8080/"
    },
    "id": "MhDQE1Yk6GXC",
    "outputId": "a5eb1625-d3c5-48de-df9d-764f6c8352c7"
   },
   "outputs": [
    {
     "name": "stdout",
     "output_type": "stream",
     "text": [
      "Has unique characters: True\n"
     ]
    }
   ],
   "source": [
    "# 7. Write a code to determine if a string has all unique characters.\n",
    "# code\n",
    "\n",
    "\n",
    "def has_unique_characters(string):\n",
    "    #\n",
    "\n",
    "    char_set = set()\n",
    "\n",
    "\n",
    "\n",
    "    for char in string:\n",
    "        # If the character is already in the set, return False (not unique)\n",
    "        if char in char_set:\n",
    "            return False\n",
    "        # Otherwise, add the character to the set\n",
    "        char_set.add(char)\n",
    "\n",
    "    # If all characters are unique, return True\n",
    "    return True\n",
    "\n",
    "# Example usage:\n",
    "input_string = \"abcdefg\"\n",
    "print(\"Has unique characters:\", has_unique_characters(input_string))\n",
    "\n",
    "\n",
    "\n"
   ]
  },
  {
   "cell_type": "code",
   "execution_count": null,
   "metadata": {
    "colab": {
     "base_uri": "https://localhost:8080/"
    },
    "id": "oprXsLDEM6RJ",
    "outputId": "52fb38dd-a95e-4dff-cce3-ebd8c4e00d74"
   },
   "outputs": [
    {
     "name": "stdout",
     "output_type": "stream",
     "text": [
      "Uppercase: HELLO WORLD\n",
      "Lowercase: hello world\n"
     ]
    }
   ],
   "source": [
    "# 8. Write a code to convert a given string to uppercase or lowercase\n",
    "# code\n",
    "\n",
    "def convert_case(string, to_uppercase=True):\n",
    "    if to_uppercase:\n",
    "        return string.upper()\n",
    "    else:\n",
    "        return string.lower()\n",
    "\n",
    "# Example usage:\n",
    "input_string = \"Hello World\"\n",
    "\n",
    "# Convert to uppercase\n",
    "uppercase_string = convert_case(input_string)\n",
    "print(\"Uppercase:\", uppercase_string)\n",
    "\n",
    "# Convert to lowercase\n",
    "lowercase_string = convert_case(input_string, to_uppercase=False)\n",
    "print(\"Lowercase:\", lowercase_string)\n"
   ]
  },
  {
   "cell_type": "code",
   "execution_count": null,
   "metadata": {
    "colab": {
     "base_uri": "https://localhost:8080/"
    },
    "id": "CJOqqA3NN1rW",
    "outputId": "bb0dc5fe-29dd-4505-c1e3-1c365e651685"
   },
   "outputs": [
    {
     "name": "stdout",
     "output_type": "stream",
     "text": [
      "Enter a string : hello world\n",
      "2\n"
     ]
    }
   ],
   "source": [
    "# 9. Write a code to count the number of words in a string.\n",
    "# code\n",
    "\n",
    "\n",
    "s = input(\"Enter a string : \")\n",
    "splitcode = s.split()\n",
    "print(len(splitcode))"
   ]
  },
  {
   "cell_type": "code",
   "execution_count": null,
   "metadata": {
    "colab": {
     "base_uri": "https://localhost:8080/"
    },
    "id": "aNjitdjZQeuo",
    "outputId": "cc4e8141-cf21-4553-8b7a-f62e371ea214"
   },
   "outputs": [
    {
     "name": "stdout",
     "output_type": "stream",
     "text": [
      "Concatenated string: HelloWorld\n"
     ]
    }
   ],
   "source": [
    "#  10. Write a code to concatenate two strings without using the + operator\n",
    "# code\n",
    "\n",
    "def concatenate_strings(string1, string2):\n",
    "    concatenated_string = \"{}{}\".format(string1, string2)\n",
    "    return concatenated_string\n",
    "\n",
    "# Example usage:\n",
    "string1 = \"Hello\"\n",
    "string2 = \"World\"\n",
    "result = concatenate_strings(string1, string2)\n",
    "print(\"Concatenated string:\", result)"
   ]
  },
  {
   "cell_type": "code",
   "execution_count": null,
   "metadata": {
    "colab": {
     "base_uri": "https://localhost:8080/"
    },
    "id": "F763tQPLSdEn",
    "outputId": "af45d805-c907-421b-f72e-a4a4be722a8c"
   },
   "outputs": [
    {
     "name": "stdout",
     "output_type": "stream",
     "text": [
      "List after removal: [1, 3, 4, 5]\n"
     ]
    }
   ],
   "source": [
    "# 11. Write a code to remove all occurrences of a specific element from a list\n",
    "# code\n",
    "\n",
    "def remove_all_occurrences(lst, element):\n",
    "    return [item for item in lst if item != element]\n",
    "\n",
    "# Example usage:\n",
    "my_list = [1, 2, 3, 2, 4, 2, 5]\n",
    "element_to_remove = 2\n",
    "result = remove_all_occurrences(my_list, element_to_remove)\n",
    "print(\"List after removal:\", result)\n"
   ]
  },
  {
   "cell_type": "code",
   "execution_count": null,
   "metadata": {
    "colab": {
     "base_uri": "https://localhost:8080/"
    },
    "id": "5az6alExToga",
    "outputId": "67006001-48bf-443f-dae5-70bd1539210b"
   },
   "outputs": [
    {
     "name": "stdout",
     "output_type": "stream",
     "text": [
      "The second largest element of the list is: 40\n"
     ]
    }
   ],
   "source": [
    "# 12. Implement a code to find the second largest number in a given list of integers.\n",
    "#code\n",
    "\n",
    "my_list = [10 , 20 , 40 , 30 , 50]\n",
    "my_list.sort()\n",
    "print(\"The second largest element of the list is:\" , my_list[-2])\n"
   ]
  },
  {
   "cell_type": "code",
   "execution_count": null,
   "metadata": {
    "colab": {
     "base_uri": "https://localhost:8080/"
    },
    "id": "jsA0ivs6WIJH",
    "outputId": "851cf016-a983-42b3-f7c3-6b7bdf595ccc"
   },
   "outputs": [
    {
     "name": "stdout",
     "output_type": "stream",
     "text": [
      "Occurrences: {1: 1, 2: 3, 3: 2, 4: 1, 5: 2}\n"
     ]
    }
   ],
   "source": [
    "# 13. Create a code to count the occurrences of each element in a list and return a dictionary with elements as keys and their counts as values.\n",
    "# code\n",
    "\n",
    "def count_occurrences(lst):\n",
    "    # Initialize an empty dictionary to store counts\n",
    "    counts = {}\n",
    "\n",
    "    # Iterate through the list and update counts\n",
    "    for item in lst:\n",
    "        if item in counts:\n",
    "            counts[item] += 1\n",
    "        else:\n",
    "            counts[item] = 1\n",
    "\n",
    "    return counts\n",
    "\n",
    "# Example usage:\n",
    "my_list = [1, 2, 3, 2, 4, 2, 5, 3, 5]\n",
    "occurrences = count_occurrences(my_list)\n",
    "print(\"Occurrences:\", occurrences)\n"
   ]
  },
  {
   "cell_type": "code",
   "execution_count": null,
   "metadata": {
    "colab": {
     "base_uri": "https://localhost:8080/"
    },
    "id": "m2Hkn-Z0X1UP",
    "outputId": "e1d5cdf5-4a55-4926-93c7-6211ad68f41d"
   },
   "outputs": [
    {
     "name": "stdout",
     "output_type": "stream",
     "text": [
      "[5, 4, 3, 2, 1]\n"
     ]
    }
   ],
   "source": [
    "# 14. Write a code to reverse a list in-place without using any built-in reverse functions.\n",
    "# code\n",
    "\n",
    "original_list = [1, 2, 3, 4, 5]\n",
    "reverse_list = []\n",
    "\n",
    "for item in reversed(original_list):\n",
    "  reverse_list.append(item)\n",
    "\n",
    "print(reverse_list)"
   ]
  },
  {
   "cell_type": "code",
   "execution_count": null,
   "metadata": {
    "colab": {
     "base_uri": "https://localhost:8080/"
    },
    "id": "4a81x51Oan3Y",
    "outputId": "06c31341-3b5f-4d79-d26e-3efdd539c4b9"
   },
   "outputs": [
    {
     "data": {
      "text/plain": [
       "[1, 2, 3, 4]"
      ]
     },
     "execution_count": 26,
     "metadata": {},
     "output_type": "execute_result"
    }
   ],
   "source": [
    "# 15. Implement a code to find and remove duplicates from a list while preserving the original order of elements.\n",
    "# code\n",
    "\n",
    "items = [1, 2, 3, 1, 4, 2]\n",
    "list(dict.fromkeys(items))"
   ]
  },
  {
   "cell_type": "code",
   "execution_count": null,
   "metadata": {
    "colab": {
     "base_uri": "https://localhost:8080/"
    },
    "id": "CL24DnNEdie8",
    "outputId": "28ceef80-e9ad-4d8f-e3b3-d1139c671665"
   },
   "outputs": [
    {
     "name": "stdout",
     "output_type": "stream",
     "text": [
      "Ascending\n",
      "Descending\n",
      "Not ascending and not descending\n"
     ]
    }
   ],
   "source": [
    "# 16. Create a code to check if a given list is sorted (either in ascending or descending order) or not.\n",
    "# code\n",
    "\n",
    "def is_sorted(check):\n",
    "    asc = desc = True\n",
    "    i, L = 0, len(check)\n",
    "    while (i < (L-1)) and (asc or desc):\n",
    "        if check[i] < check[i+1]:\n",
    "            desc = False\n",
    "        elif check[i] > check[i+1]:\n",
    "            asc = False\n",
    "        if not (asc or desc):\n",
    "            break\n",
    "        i += 1\n",
    "    if asc and desc:\n",
    "        return \"Ascending and Descending\"\n",
    "    elif asc:\n",
    "        return \"Ascending\"\n",
    "    elif desc:\n",
    "        return \"Descending\"\n",
    "    else:\n",
    "        return \"Not ascending and not descending\"\n",
    "\n",
    "print (is_sorted([1, 2, 3]))\n",
    "#       or\n",
    "print (is_sorted([3, 2, 1]))\n",
    "#      or\n",
    "print (is_sorted([1, 2, 3, 2, 1]))"
   ]
  },
  {
   "cell_type": "code",
   "execution_count": null,
   "metadata": {
    "colab": {
     "base_uri": "https://localhost:8080/"
    },
    "id": "jvr96Mt9fmGY",
    "outputId": "0a23f4d8-0bcf-41c9-9794-1641df9ec7b7"
   },
   "outputs": [
    {
     "name": "stdout",
     "output_type": "stream",
     "text": [
      "The combing list is [1, 2, 3, 4, 5, 7, 8, 12, 14]\n"
     ]
    }
   ],
   "source": [
    "# 17. Write a code to merge two sorted lists into a single sorted list.\n",
    "# code\n",
    "\n",
    "list1 = [ 1 , 3 , 5 , 12]\n",
    "list2 = [ 2 ,4 , 7 , 8 , 14]\n",
    "\n",
    "list3 = list1 + list2\n",
    "list3.sort()\n",
    "print(\"The combing list is\" ,(list3))"
   ]
  },
  {
   "cell_type": "code",
   "execution_count": null,
   "metadata": {
    "colab": {
     "base_uri": "https://localhost:8080/"
    },
    "id": "ELhUVRRgg4id",
    "outputId": "22025a9f-d2f0-4cdf-96ed-c4b40782aaea"
   },
   "outputs": [
    {
     "name": "stdout",
     "output_type": "stream",
     "text": [
      "{66, 90, 11, 54, 58, 28, 31}\n"
     ]
    }
   ],
   "source": [
    "# 18. Implement a code to find the intersection of two given lists.\n",
    "# code\n",
    "\n",
    "def intersection_list(list1, list2):\n",
    "  return set(list1).intersection(list2)\n",
    "\n",
    "list1 = [40, 90, 11, 58, 31, 66, 28, 54, 79]\n",
    "list2 = [58, 90, 54, 31, 45, 11, 66, 28, 26]\n",
    "\n",
    "print(intersection_list(list1, list2))"
   ]
  },
  {
   "cell_type": "code",
   "execution_count": null,
   "metadata": {
    "id": "BQ7tG3zpvRxi"
   },
   "outputs": [],
   "source": []
  },
  {
   "cell_type": "code",
   "execution_count": null,
   "metadata": {
    "colab": {
     "base_uri": "https://localhost:8080/"
    },
    "id": "zNjUBezhkNED",
    "outputId": "28c555a8-39a9-4c30-d06b-ae5f1c065eed"
   },
   "outputs": [
    {
     "name": "stdout",
     "output_type": "stream",
     "text": [
      "Union of the lists: [1, 2, 3, 4, 5, 6, 7]\n"
     ]
    }
   ],
   "source": [
    "# 19. Create a code to find the union of two lists without duplicates\n",
    "# code\n",
    "\n",
    "def find_union(list1, list2):\n",
    "    # Convert lists to sets to remove duplicates\n",
    "    set1 = set(list1)\n",
    "    set2 = set(list2)\n",
    "\n",
    "    # Find the union of the sets\n",
    "    union = set1.union(set2)\n",
    "\n",
    "    return list(union)\n",
    "\n",
    "# Example usage:\n",
    "list1 = [1, 2, 3, 4, 5]\n",
    "list2 = [3, 4, 5, 6, 7]\n",
    "\n",
    "union = find_union(list1, list2)\n",
    "print(\"Union of the lists:\", union)\n"
   ]
  },
  {
   "cell_type": "code",
   "execution_count": null,
   "metadata": {
    "colab": {
     "base_uri": "https://localhost:8080/"
    },
    "id": "-jgt657-le0L",
    "outputId": "45bcd57e-491f-4d57-92cd-41b16934ad63"
   },
   "outputs": [
    {
     "name": "stdout",
     "output_type": "stream",
     "text": [
      "Shuffled list: [5, 3, 1, 2, 4]\n"
     ]
    }
   ],
   "source": [
    "# 20. Write a code to shuffle a given list randomly without using any built-in shuffle functions.\n",
    "# code\n",
    "\n",
    "import random\n",
    "\n",
    "def shuffle_list(lst):\n",
    "    # Copy the list to avoid modifying the original list\n",
    "    shuffled = lst[:]\n",
    "\n",
    "    # Perform Fisher-Yates shuffle\n",
    "    n = len(shuffled)\n",
    "    for i in range(n - 1, 0, -1):\n",
    "        j = random.randint(0, i)\n",
    "        shuffled[i], shuffled[j] = shuffled[j], shuffled[i]\n",
    "\n",
    "    return shuffled\n",
    "\n",
    "# Example usage:\n",
    "my_list = [1, 2, 3, 4, 5]\n",
    "shuffled_list = shuffle_list(my_list)\n",
    "print(\"Shuffled list:\", shuffled_list)\n"
   ]
  },
  {
   "cell_type": "code",
   "execution_count": null,
   "metadata": {
    "colab": {
     "base_uri": "https://localhost:8080/"
    },
    "id": "fZYLPYH7mUy9",
    "outputId": "078dd623-bbff-41ef-bd33-783ce7155e15"
   },
   "outputs": [
    {
     "name": "stdout",
     "output_type": "stream",
     "text": [
      "Common elements: (4, 5)\n"
     ]
    }
   ],
   "source": [
    "# 21. Write a code that takes two tuples as input and returns a new tuple containing elements that are common to both input tuples.\n",
    "# code\n",
    "\n",
    "def find_common_elements(tuple1, tuple2):\n",
    "    # Convert tuples to sets\n",
    "    set1 = set(tuple1)\n",
    "    set2 = set(tuple2)\n",
    "\n",
    "    # Find the intersection of the sets\n",
    "    common_elements = set1.intersection(set2)\n",
    "\n",
    "    # Convert the resulting set back to a tuple\n",
    "    common_tuple = tuple(common_elements)\n",
    "\n",
    "    return common_tuple\n",
    "\n",
    "# Example usage:\n",
    "tuple1 = (1, 2, 3, 4, 5)\n",
    "tuple2 = (4, 5, 6, 7, 8)\n",
    "\n",
    "common_elements = find_common_elements(tuple1, tuple2)\n",
    "print(\"Common elements:\", common_elements)\n"
   ]
  },
  {
   "cell_type": "code",
   "execution_count": null,
   "metadata": {
    "colab": {
     "base_uri": "https://localhost:8080/"
    },
    "id": "8C4oa3nErT6H",
    "outputId": "f8a615ab-56b1-4710-a914-7ab0614d8a43"
   },
   "outputs": [
    {
     "name": "stdout",
     "output_type": "stream",
     "text": [
      "Enter a set of integers separated by commas: 1, 2, 3, 4, 5\n",
      "Enter a set of integers separated by commas: 6, 7, 8, 9, 10\n",
      "Intersection of the two sets: set()\n"
     ]
    }
   ],
   "source": [
    "# 22. Create a code that prompts the user to enter two sets of integers separated by commas. Then, print the intersection of these two sets.\n",
    "# code\n",
    "\n",
    "def get_set_from_input():\n",
    "    # Prompt the user to enter a set of integers separated by commas\n",
    "    input_str = input(\"Enter a set of integers separated by commas: \")\n",
    "    # Convert the input string into a set of integers\n",
    "    int_set = set(map(int, input_str.split(',')))\n",
    "    return int_set\n",
    "\n",
    "# Get two sets of integers from user input\n",
    "set1 = get_set_from_input()\n",
    "set2 = get_set_from_input()\n",
    "\n",
    "# Find the intersection of the two sets\n",
    "intersection = set1.intersection(set2)\n",
    "\n",
    "# Print the intersection\n",
    "print(\"Intersection of the two sets:\", intersection)\n"
   ]
  },
  {
   "cell_type": "code",
   "execution_count": null,
   "metadata": {
    "colab": {
     "base_uri": "https://localhost:8080/"
    },
    "id": "fqgZotNMst0b",
    "outputId": "e3270270-125c-45e9-e874-cda8b18ac531"
   },
   "outputs": [
    {
     "name": "stdout",
     "output_type": "stream",
     "text": [
      "('saurav', 'aaru', 'manasi', 'rekha')\n",
      "(10, 20, 30, 40, 50)\n",
      "('saurav', 'aaru', 'manasi', 'rekha', 10, 20, 30, 40, 50)\n"
     ]
    }
   ],
   "source": [
    "#23. Write a code to concatenate two tuples. The function should take two tuples as input and return a new tuple containing elements from both input tuples.\n",
    "# code\n",
    "\n",
    "my_tuple = (\"saurav\", \"aaru\" , \"manasi\" , \"rekha\")\n",
    "print (my_tuple)\n",
    "\n",
    "my_tuple2 = (10 ,20 ,30 ,40, 50)\n",
    "print(my_tuple2)\n",
    "#concatenate\n",
    "\n",
    "print(my_tuple + my_tuple2)"
   ]
  },
  {
   "cell_type": "code",
   "execution_count": null,
   "metadata": {
    "colab": {
     "base_uri": "https://localhost:8080/"
    },
    "id": "PRjJ8k56urAn",
    "outputId": "8634d2f7-c962-4d9b-a0b1-749935e5148f"
   },
   "outputs": [
    {
     "name": "stdout",
     "output_type": "stream",
     "text": [
      "Enter elements of the first set separated by spaces: 12 \n",
      "Enter elements of the second set separated by spaces: 25 \n",
      "Elements present in the first set but not in the second set: {'12'}\n"
     ]
    }
   ],
   "source": [
    "\n",
    "#24. Develop a code that prompts the user to input two sets of strings. Then, print the elements that are present in the first set but not in the second set.\n",
    "# code\n",
    "\n",
    "def main():\n",
    "    # Prompting the user to input the first set of strings\n",
    "    set1_input = input(\"Enter elements of the first set separated by spaces: \")\n",
    "    set1 = set(set1_input.split())\n",
    "\n",
    "    # Prompting the user to input the second set of strings\n",
    "    set2_input = input(\"Enter elements of the second set separated by spaces: \")\n",
    "    set2 = set(set2_input.split())\n",
    "\n",
    "    # Finding the elements present in the first set but not in the second set\n",
    "    difference = set1 - set2\n",
    "\n",
    "    # Printing the elements\n",
    "    print(\"Elements present in the first set but not in the second set:\", difference)\n",
    "\n",
    "if __name__ == \"__main__\":\n",
    "    main()\n"
   ]
  },
  {
   "cell_type": "code",
   "execution_count": null,
   "metadata": {
    "colab": {
     "base_uri": "https://localhost:8080/"
    },
    "id": "2rF8f29gMxq7",
    "outputId": "065b29a3-3399-406e-c030-aea86a9b245b"
   },
   "outputs": [
    {
     "name": "stdout",
     "output_type": "stream",
     "text": [
      "Elements within the specified range: (3, 4, 5, 6)\n"
     ]
    }
   ],
   "source": [
    "# 25. Create a code that takes a tuple and two integers as input. The function should return a\n",
    "# new tuple containing elements from the original tuple within the specified range of indices.\n",
    "\n",
    "# code\n",
    "\n",
    "def get_elements_in_range(input_tuple, start_index, end_index):\n",
    "\n",
    "    # Check if the indices are valid\n",
    "    if start_index < 0 or end_index >= len(input_tuple) or start_index > end_index:\n",
    "        return None\n",
    "\n",
    "\n",
    "\n",
    "    # Create a new tuple containing elements within the specified range\n",
    "    result_tuple = input_tuple[start_index:end_index+1]\n",
    "\n",
    "    return result_tuple\n",
    "\n",
    "# usage:\n",
    "original_tuple = (1, 2, 3, 4, 5, 6, 7, 8, 9)\n",
    "start_index = 2\n",
    "end_index = 5\n",
    "result = get_elements_in_range(original_tuple, start_index, end_index)\n",
    "print(\"Elements within the specified range:\", result)\n"
   ]
  },
  {
   "cell_type": "code",
   "execution_count": null,
   "metadata": {
    "colab": {
     "base_uri": "https://localhost:8080/"
    },
    "id": "KEXKeBLNRW3w",
    "outputId": "8391d6cc-28e0-458e-d0dd-b51eb25cd580"
   },
   "outputs": [
    {
     "name": "stdout",
     "output_type": "stream",
     "text": [
      "Enter characters for the first set separated by spaces: saurav \n",
      "Enter characters for the second set separated by spaces: tupe \n",
      "Union of the two sets: {'e', 'a', 'v', ' ', 'r', 't', 's', 'p', 'u'}\n"
     ]
    }
   ],
   "source": [
    "# 26. Write a code that prompts the user to input two sets of characters. Then, print the union of these two sets\n",
    "# code :\n",
    "\n",
    "def main():\n",
    "\n",
    "    # Prompt the user to input the first set of characters\n",
    "    set1_input = input(\"Enter characters for the first set separated by spaces: \")\n",
    "    set1 = set(set1_input)\n",
    "\n",
    "\n",
    "    # Prompt the user to input the second set of characters\n",
    "    set2_input = input(\"Enter characters for the second set separated by spaces: \")\n",
    "    set2 = set(set2_input)\n",
    "\n",
    "\n",
    "    # Compute the union of the two sets\n",
    "    union_set = set1.union(set2)\n",
    "\n",
    "    print(\"Union of the two sets:\", union_set)\n",
    "\n",
    "if __name__ == \"__main__\":\n",
    "    main()"
   ]
  },
  {
   "cell_type": "code",
   "execution_count": null,
   "metadata": {
    "colab": {
     "base_uri": "https://localhost:8080/"
    },
    "id": "r42eAm0KSbQ-",
    "outputId": "e0774af0-ac68-405c-8506-a26cc606eecf"
   },
   "outputs": [
    {
     "name": "stdout",
     "output_type": "stream",
     "text": [
      "Maximum value: 12\n",
      "Minimum value: 3\n"
     ]
    }
   ],
   "source": [
    "# 27. Develop a code that takes a tuple of integers as input. The function should return the maximum and minimum values from the tuple using tuple unpacking.\n",
    "\n",
    "# code\n",
    "\n",
    "def find_max_min(input_tuple):\n",
    "\n",
    "    if not input_tuple:\n",
    "        return None, None\n",
    "\n",
    "    # Use tuple unpacking to find the maximum and minimum values\n",
    "    max_val = max(input_tuple)\n",
    "    min_val = min(input_tuple)\n",
    "\n",
    "    return max_val, min_val\n",
    "\n",
    "# Example usage:\n",
    "input_tuple = (10, 5, 8, 3, 12, 7)\n",
    "max_val, min_val = find_max_min(input_tuple)\n",
    "print(\"Maximum value:\", max_val)\n",
    "print(\"Minimum value:\", min_val)\n"
   ]
  },
  {
   "cell_type": "code",
   "execution_count": null,
   "metadata": {
    "colab": {
     "base_uri": "https://localhost:8080/"
    },
    "id": "F11028CETQhH",
    "outputId": "40610ad1-67f9-41de-b076-dca003489a30"
   },
   "outputs": [
    {
     "name": "stdout",
     "output_type": "stream",
     "text": [
      "Union: {1, 2, 3, 4, 5, 6, 7, 8}\n",
      "Intersection: {4, 5}\n",
      "Difference (set1 - set2): {1, 2, 3}\n",
      "Difference (set2 - set1): {8, 6, 7}\n"
     ]
    }
   ],
   "source": [
    "# 28. Create a code that defines two sets of integers. Then, print the union, intersection, and difference of these two sets.\n",
    "# code\n",
    "\n",
    "def main():\n",
    "    # Define two sets of integers\n",
    "    set1 = {1, 2, 3, 4, 5}\n",
    "    set2 = {4, 5, 6, 7, 8}\n",
    "\n",
    "    # Print the union of the two sets\n",
    "    print(\"Union:\", set1.union(set2))\n",
    "\n",
    "    # Print the intersection of the two sets\n",
    "    print(\"Intersection:\", set1.intersection(set2))\n",
    "\n",
    "    # Print the difference of the two sets (elements in set1 but not in set2)\n",
    "    print(\"Difference (set1 - set2):\", set1.difference(set2))\n",
    "\n",
    "    # Print the difference of the two sets (elements in set2 but not in set1)\n",
    "    print(\"Difference (set2 - set1):\", set2.difference(set1))\n",
    "\n",
    "if __name__ == \"__main__\":\n",
    "    main()\n"
   ]
  },
  {
   "cell_type": "code",
   "execution_count": null,
   "metadata": {
    "colab": {
     "base_uri": "https://localhost:8080/"
    },
    "id": "DyncZ49bUjFC",
    "outputId": "5fb895c4-9f95-4a00-ace1-6ee148491ad1"
   },
   "outputs": [
    {
     "name": "stdout",
     "output_type": "stream",
     "text": [
      "The element 1 occurs 3 times in the tuple.\n"
     ]
    }
   ],
   "source": [
    "# 29. Write a code that takes a tuple and an element as input. The function should return the count of occurrences of the given element in the tuple.\n",
    "# code\n",
    "\n",
    "def count_occurrences(input_tuple, element):\n",
    "    # Count the occurrences of the element in the tuple\n",
    "    count = input_tuple.count(element)\n",
    "    return count\n",
    "\n",
    "# Example usage:\n",
    "input_tuple = (1, 2, 3, 4, 1, 2, 1, 3, 4, 5)\n",
    "element = 1\n",
    "occurrences = count_occurrences(input_tuple, element)\n",
    "print(f\"The element {element} occurs {occurrences} times in the tuple.\")\n"
   ]
  },
  {
   "cell_type": "code",
   "execution_count": null,
   "metadata": {
    "colab": {
     "base_uri": "https://localhost:8080/"
    },
    "id": "XGMJ7nAXWRSM",
    "outputId": "2241d71c-bc2a-40e7-a4fc-6b6b2af0e165"
   },
   "outputs": [
    {
     "name": "stdout",
     "output_type": "stream",
     "text": [
      "Enter elements of the first set separated by spaces: 44 , 54  ,64\n",
      "Enter elements of the second set separated by spaces: 32 , 43 ,63\n",
      "Symmetric Difference: {',64', ',63', '44', '32', '54', '43'}\n"
     ]
    }
   ],
   "source": [
    "# 30. Develop a code that prompts the user to input two sets of strings. Then, print the symmetric difference of these two sets.\n",
    "# code\n",
    "\n",
    "def main():\n",
    "    # Prompt the user to input the first set of strings\n",
    "    set1_input = input(\"Enter elements of the first set separated by spaces: \")\n",
    "    set1 = set(set1_input.split())\n",
    "\n",
    "    # Prompt the user to input the second set of strings\n",
    "    set2_input = input(\"Enter elements of the second set separated by spaces: \")\n",
    "    set2 = set(set2_input.split())\n",
    "\n",
    "    # Calculate the symmetric difference of the two sets\n",
    "    symmetric_difference = set1.symmetric_difference(set2)\n",
    "\n",
    "    # Print the symmetric difference\n",
    "    print(\"Symmetric Difference:\", symmetric_difference)\n",
    "\n",
    "if __name__ == \"__main__\":\n",
    "    main()\n"
   ]
  },
  {
   "cell_type": "code",
   "execution_count": null,
   "metadata": {
    "colab": {
     "base_uri": "https://localhost:8080/"
    },
    "id": "a-JQGAZSWyGA",
    "outputId": "5101e3a0-1cf2-471b-9165-e023f601d90e"
   },
   "outputs": [
    {
     "name": "stdout",
     "output_type": "stream",
     "text": [
      "Word frequencies: {'apple': 3, 'banana': 2, 'orange': 1}\n"
     ]
    }
   ],
   "source": [
    "# 31. Write a code that takes a list of words as input and returns a dictionary where the keys are unique words and the values are the frequencies of those words in the input list.\n",
    "\n",
    "# code\n",
    "\n",
    "def word_frequency(input_list):\n",
    "    # Initialize an empty dictionary to store word frequencies\n",
    "    frequency_dict = {}\n",
    "\n",
    "    # Count the frequency of each word in the input list\n",
    "    for word in input_list:\n",
    "        frequency_dict[word] = frequency_dict.get(word, 0) + 1\n",
    "\n",
    "    return frequency_dict\n",
    "\n",
    "# Example usage:\n",
    "input_list = [\"apple\", \"banana\", \"apple\", \"orange\", \"banana\", \"apple\"]\n",
    "result = word_frequency(input_list)\n",
    "print(\"Word frequencies:\", result)"
   ]
  },
  {
   "cell_type": "code",
   "execution_count": null,
   "metadata": {
    "colab": {
     "base_uri": "https://localhost:8080/"
    },
    "id": "HGeSrcGdXxDu",
    "outputId": "92a31867-1cf0-4591-a2ef-b72c4fdfd958"
   },
   "outputs": [
    {
     "name": "stdout",
     "output_type": "stream",
     "text": [
      "{'a': 100, 'b': 500, 'c': 700, 'd': 500}\n"
     ]
    }
   ],
   "source": [
    "# 32.Write a code that takes two dictionaries as input and merges them into a single dictionary. If there are common keys, the values should be added together.\n",
    "\n",
    "\n",
    "# code\n",
    "\n",
    "def merge_dicts(dict1, dict2):\n",
    "    merged_dict = dict(dict1)  # Create a copy of the first dictionary\n",
    "\n",
    "    for key, value in dict2.items():\n",
    "        if key in merged_dict:\n",
    "            merged_dict[key] += value  # Add values if key exists in both dictionaries\n",
    "        else:\n",
    "            merged_dict[key] = value  # Otherwise, add the key-value pair to the merged dictionary\n",
    "\n",
    "    return merged_dict\n",
    "\n",
    "# Example usage:\n",
    "dict1 = {'a': 100, 'b': 200, 'c': 300}\n",
    "dict2 = {'b': 300, 'c': 400, 'd': 500}\n",
    "\n",
    "merged = merge_dicts(dict1, dict2)\n",
    "print(merged)"
   ]
  },
  {
   "cell_type": "code",
   "execution_count": null,
   "metadata": {
    "colab": {
     "base_uri": "https://localhost:8080/"
    },
    "id": "i-0kUnRNmKnF",
    "outputId": "14692a33-5f6c-4bbd-b196-f50cfd38d937"
   },
   "outputs": [
    {
     "name": "stdout",
     "output_type": "stream",
     "text": [
      "123\n",
      "None\n"
     ]
    }
   ],
   "source": [
    "# 33. Write a code to access a value in a nested dictionary. The function should take the dictionary and a list of keys as input, and return the corresponding\n",
    "# value. If any of the keys do not exist in the dictionary, the function should return None.\n",
    "\n",
    "# code\n",
    "\n",
    "def get_nested_value(dictionary, keys):\n",
    "    nested_dict = dictionary\n",
    "    for key in keys:\n",
    "        if isinstance(nested_dict, dict) and key in nested_dict:\n",
    "            nested_dict = nested_dict[key]\n",
    "        else:\n",
    "            return None\n",
    "    return nested_dict\n",
    "\n",
    "# Example usage:\n",
    "my_dict = {\n",
    "    'a': {\n",
    "        'b': {\n",
    "            'c': 123\n",
    "        }\n",
    "    }\n",
    "}\n",
    "\n",
    "keys_to_access = ['a', 'b', 'c']\n",
    "value = get_nested_value(my_dict, keys_to_access)\n",
    "print(value)  # Output: 123\n",
    "\n",
    "# Trying to access a non-existent key:\n",
    "value = get_nested_value(my_dict, ['x', 'y', 'z'])\n",
    "print(value)  # Output: None\n",
    "\n"
   ]
  },
  {
   "cell_type": "code",
   "execution_count": null,
   "metadata": {
    "colab": {
     "base_uri": "https://localhost:8080/"
    },
    "id": "pvSW8WUYnyxT",
    "outputId": "a4ff024a-aff8-4110-dcc0-5c155377bdb9"
   },
   "outputs": [
    {
     "name": "stdout",
     "output_type": "stream",
     "text": [
      "{'d': 1, 'b': 2, 'a': 5, 'c': 8}\n"
     ]
    }
   ],
   "source": [
    "# 34. Write a code that takes a dictionary as input and returns a sorted version of it based on the values. You can choose whether to sort in ascending or descending order.\n",
    "\n",
    "# code\n",
    "\n",
    "def sort_dict_by_value(d):\n",
    "    return dict(sorted(d.items(), key=lambda item: item[1]))\n",
    "\n",
    "# Example usage:\n",
    "my_dict = {'a': 5, 'b': 2, 'c': 8, 'd': 1}\n",
    "sorted_dict = sort_dict_by_value(my_dict)\n",
    "print(sorted_dict)\n"
   ]
  },
  {
   "cell_type": "code",
   "execution_count": null,
   "metadata": {
    "colab": {
     "base_uri": "https://localhost:8080/"
    },
    "id": "rLbenTwOorsA",
    "outputId": "e185358b-6b7e-4b65-f066-84a015d95dcd"
   },
   "outputs": [
    {
     "name": "stdout",
     "output_type": "stream",
     "text": [
      "{1: ['a', 'c'], 2: ['b', 'e'], 3: 'd'}\n"
     ]
    }
   ],
   "source": [
    "# 35. Write a code that inverts a dictionary, swapping keys and values. Ensure that the inverted dictionary correctly handles cases where multiple keys have\n",
    "# the same value by storing the keys as a list in the inverted dictionary.\n",
    "\n",
    "# code\n",
    "\n",
    "def invert_dict(d):\n",
    "    inverted_dict = {}\n",
    "    for key, value in d.items():\n",
    "        if value in inverted_dict:\n",
    "            if isinstance(inverted_dict[value], list):\n",
    "                inverted_dict[value].append(key)\n",
    "            else:\n",
    "                inverted_dict[value] = [inverted_dict[value], key]\n",
    "        else:\n",
    "            inverted_dict[value] = key\n",
    "    return inverted_dict\n",
    "\n",
    "# Example usage:\n",
    "my_dict = {'a': 1, 'b': 2, 'c': 1, 'd': 3, 'e': 2}\n",
    "inverted = invert_dict(my_dict)\n",
    "print(inverted)\n"
   ]
  },
  {
   "cell_type": "code",
   "execution_count": null,
   "metadata": {
    "id": "5LN2J0AHpGIu"
   },
   "outputs": [],
   "source": []
  }
 ],
 "metadata": {
  "colab": {
   "provenance": []
  },
  "kernelspec": {
   "display_name": "Python 3 (ipykernel)",
   "language": "python",
   "name": "python3"
  },
  "language_info": {
   "codemirror_mode": {
    "name": "ipython",
    "version": 3
   },
   "file_extension": ".py",
   "mimetype": "text/x-python",
   "name": "python",
   "nbconvert_exporter": "python",
   "pygments_lexer": "ipython3",
   "version": "3.10.8"
  }
 },
 "nbformat": 4,
 "nbformat_minor": 4
}
